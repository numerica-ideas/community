{
 "cells": [
  {
   "cell_type": "markdown",
   "metadata": {},
   "source": [
    "# Hello Crew!"
   ]
  },
  {
   "cell_type": "markdown",
   "metadata": {},
   "source": [
    "This notebook is a simple example of how to use the Crew AI Agentic framework to create AI agents that can perform a task.\n",
    "\n",
    "We will create two agents:\n",
    "- `Greeter`: A cheerful and friendly greeter who loves to initiate conversations.\n",
    "- `Responder`: A warm-hearted responder who ensures everyone feels welcomed.\n",
    "\n",
    "## Prerequisites\n",
    "To run this notebook, you will need any version of `Python` that can run crewai ([Python >=3.10 and <3.13](https://docs.crewai.com/installation)) and install the following libraries:\n",
    "- `python-dotenv` for loading environment variables\n",
    "- `crewai` for building and running AI agents\n",
    "\n",
    "You can install the libraries using the following command:\n",
    "```bash\n",
    "pip install python-dotenv crewai\n",
    "```\n",
    "\n"
   ]
  },
  {
   "cell_type": "markdown",
   "metadata": {
    "vscode": {
     "languageId": "plaintext"
    }
   },
   "source": [
    "## Meet the Crew!"
   ]
  },
  {
   "cell_type": "code",
   "execution_count": 1,
   "metadata": {},
   "outputs": [
    {
     "name": "stdout",
     "output_type": "stream",
     "text": [
      "LLM value is None\n",
      "LLM value is None\n"
     ]
    }
   ],
   "source": [
    "from crewai import Agent\n",
    "\n",
    "# Agent 1: Greeter\n",
    "greeter = Agent(\n",
    "    role=\"Greeter\",\n",
    "    goal=\"Start a friendly conversation by saying hello.\",\n",
    "    backstory=(\n",
    "        \"You are a cheerful and friendly greeter who loves to initiate conversations.\"\n",
    "    ),\n",
    "    verbose=True\n",
    ")\n",
    "\n",
    "# Agent 2: Responder\n",
    "responder = Agent(\n",
    "    role=\"Responder\",\n",
    "    goal=\"Respond warmly to greetings.\",\n",
    "    backstory=(\n",
    "        \"You are a warm-hearted responder who ensures everyone feels welcomed.\"\n",
    "    ),\n",
    "    verbose=True\n",
    ")"
   ]
  },
  {
   "cell_type": "markdown",
   "metadata": {},
   "source": [
    "## Let's assign the tasks!"
   ]
  },
  {
   "cell_type": "code",
   "execution_count": 2,
   "metadata": {},
   "outputs": [],
   "source": [
    "from crewai import Task\n",
    "\n",
    "# Task 1: Greeting Task\n",
    "greeting_task = Task(\n",
    "    description=\"Say 'Hello, World!' to start the conversation.\",\n",
    "    expected_output=\"A greeting message, e.g., 'Hello, World!'\",\n",
    "    agent=greeter # This is where we assign the task to the greeter agent\n",
    ")\n",
    "\n",
    "# Task 2: Responding Task\n",
    "response_task = Task(\n",
    "    description=\"Respond to the greeting with a friendly reply.\",\n",
    "    expected_output=\"A friendly response to the greeting, e.g., 'Hi there, how can I assist you today?'\",\n",
    "    agent=responder # This is where we assign the task to the responder agent\n",
    ")"
   ]
  },
  {
   "cell_type": "markdown",
   "metadata": {},
   "source": [
    "## Assemble the crew!"
   ]
  },
  {
   "cell_type": "code",
   "execution_count": 3,
   "metadata": {},
   "outputs": [],
   "source": [
    "from crewai import Crew, Process\n",
    "\n",
    "greeting_crew = Crew(\n",
    "    agents=[greeter, responder],\n",
    "    tasks=[greeting_task, response_task],\n",
    "    process=Process.sequential  # Execute tasks one after the other\n",
    ")"
   ]
  },
  {
   "cell_type": "markdown",
   "metadata": {},
   "source": [
    "## Let's the show begin!"
   ]
  },
  {
   "cell_type": "code",
   "execution_count": 6,
   "metadata": {},
   "outputs": [
    {
     "name": "stdout",
     "output_type": "stream",
     "text": [
      "\u001b[1m\u001b[95m# Agent:\u001b[00m \u001b[1m\u001b[92mGreeter\u001b[00m\n",
      "\u001b[95m## Task:\u001b[00m \u001b[92mSay 'Hello, World!' to start the conversation.\u001b[00m\n",
      "\n",
      "\n",
      "\u001b[1m\u001b[95m# Agent:\u001b[00m \u001b[1m\u001b[92mGreeter\u001b[00m\n",
      "\u001b[95m## Final Answer:\u001b[00m \u001b[92m\n",
      "Hello, World! 🌍 I'm so excited to connect with you! How are you doing today?\u001b[00m\n",
      "\n",
      "\n",
      "\u001b[1m\u001b[95m# Agent:\u001b[00m \u001b[1m\u001b[92mResponder\u001b[00m\n",
      "\u001b[95m## Task:\u001b[00m \u001b[92mRespond to the greeting with a friendly reply.\u001b[00m\n",
      "\n",
      "\n",
      "\u001b[1m\u001b[95m# Agent:\u001b[00m \u001b[1m\u001b[92mResponder\u001b[00m\n",
      "\u001b[95m## Final Answer:\u001b[00m \u001b[92m\n",
      "Hi there! 🌟 I'm absolutely thrilled to connect with you too! I'm doing wonderfully, thank you for asking! How are you doing today? How can I assist you?\u001b[00m\n",
      "\n",
      "\n"
     ]
    }
   ],
   "source": [
    "result = greeting_crew.kickoff()\n"
   ]
  },
  {
   "cell_type": "code",
   "execution_count": 9,
   "metadata": {},
   "outputs": [
    {
     "data": {
      "text/plain": [
       "CrewOutput(raw=\"Hi there! 🌟 I'm absolutely thrilled to connect with you too! I'm doing wonderfully, thank you for asking! How are you doing today? How can I assist you?\", pydantic=None, json_dict=None, tasks_output=[TaskOutput(description=\"Say 'Hello, World!' to start the conversation.\", name=None, expected_output=\"A greeting message, e.g., 'Hello, World!'\", summary=\"Say 'Hello, World!' to start the conversation....\", raw=\"Hello, World! 🌍 I'm so excited to connect with you! How are you doing today?\", pydantic=None, json_dict=None, agent='Greeter', output_format=<OutputFormat.RAW: 'raw'>), TaskOutput(description='Respond to the greeting with a friendly reply.', name=None, expected_output=\"A friendly response to the greeting, e.g., 'Hi there, how can I assist you today?'\", summary='Respond to the greeting with a friendly reply....', raw=\"Hi there! 🌟 I'm absolutely thrilled to connect with you too! I'm doing wonderfully, thank you for asking! How are you doing today? How can I assist you?\", pydantic=None, json_dict=None, agent='Responder', output_format=<OutputFormat.RAW: 'raw'>)], token_usage=UsageMetrics(total_tokens=960, prompt_tokens=804, cached_prompt_tokens=0, completion_tokens=156, successful_requests=4))"
      ]
     },
     "execution_count": 9,
     "metadata": {},
     "output_type": "execute_result"
    }
   ],
   "source": [
    "result"
   ]
  },
  {
   "cell_type": "code",
   "execution_count": null,
   "metadata": {},
   "outputs": [],
   "source": []
  }
 ],
 "metadata": {
  "kernelspec": {
   "display_name": "venv",
   "language": "python",
   "name": "python3"
  },
  "language_info": {
   "codemirror_mode": {
    "name": "ipython",
    "version": 3
   },
   "file_extension": ".py",
   "mimetype": "text/x-python",
   "name": "python",
   "nbconvert_exporter": "python",
   "pygments_lexer": "ipython3",
   "version": "3.12.2"
  }
 },
 "nbformat": 4,
 "nbformat_minor": 2
}
